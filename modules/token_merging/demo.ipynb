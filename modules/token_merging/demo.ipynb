{
 "cells": [
  {
   "attachments": {},
   "cell_type": "markdown",
   "metadata": {},
   "source": [
    "## Token Merging for Stable Diffusion running with OpenVINO demo\n",
    "This notebook demonstrates how to use Token Merging method to accelerate Stable Diffusion model running with OpenVINO. The method is applied to PyTorch model before exporting to OpenVINO representation."
   ]
  },
  {
   "cell_type": "code",
   "execution_count": null,
   "metadata": {},
   "outputs": [],
   "source": [
    "import tomeov\n",
    "from diffusers import StableDiffusionPipeline, DDPMScheduler\n",
    "from diffusers.training_utils import set_seed\n",
    "from optimum.intel.openvino import OVStableDiffusionPipeline\n",
    "from IPython.display import display"
   ]
  },
  {
   "cell_type": "code",
   "execution_count": null,
   "metadata": {},
   "outputs": [],
   "source": [
    "scheduler = DDPMScheduler(beta_start=0.00085, beta_end=0.012,\n",
    "                          beta_schedule=\"scaled_linear\", num_train_timesteps=1000)\n",
    "pipe = StableDiffusionPipeline.from_pretrained(\"runwayml/stable-diffusion-v1-5\", scheduler=scheduler)\n",
    "pipe.safety_checker = lambda images, clip_input: (images, False)\n"
   ]
  },
  {
   "attachments": {},
   "cell_type": "markdown",
   "metadata": {},
   "source": [
    "* Create a pipiline with Token Merging applied to a Stable Diffusion model and export it to OpenVINO representation."
   ]
  },
  {
   "cell_type": "code",
   "execution_count": null,
   "metadata": {},
   "outputs": [],
   "source": [
    "# Apply ToMe with a 30% merging ratio\n",
    "tomeov.patch_stable_diffusion(pipe, ratio=0.3) # Can also use pipe.unet in place of pipe here"
   ]
  },
  {
   "cell_type": "code",
   "execution_count": null,
   "metadata": {},
   "outputs": [],
   "source": [
    "save_dir = \"stable_diffusion_optimized\"\n",
    "tomeov.export_diffusion_pipeline(pipe, save_dir)"
   ]
  },
  {
   "attachments": {},
   "cell_type": "markdown",
   "metadata": {},
   "source": [
    "* Create OpenVINO-based pipeline. We fix image size for faster inference."
   ]
  },
  {
   "cell_type": "code",
   "execution_count": null,
   "metadata": {},
   "outputs": [],
   "source": [
    "set_seed(42)\n",
    "ov_pipe = OVStableDiffusionPipeline.from_pretrained(save_dir, compile=False)\n",
    "ov_pipe.reshape(batch_size=1, height=512, width=512, num_images_per_prompt=1)\n",
    "ov_pipe.compile()"
   ]
  },
  {
   "attachments": {},
   "cell_type": "markdown",
   "metadata": {},
   "source": [
    "* Generate and display the image."
   ]
  },
  {
   "cell_type": "code",
   "execution_count": null,
   "metadata": {},
   "outputs": [],
   "source": [
    "set_seed(42)\n",
    "output = ov_pipe(prompt, num_inference_steps=50, output_type=\"pil\")\n",
    "display(output.images[0])"
   ]
  }
 ],
 "metadata": {
  "kernelspec": {
   "display_name": "Python 3.8.10 ('stable_diffusion')",
   "language": "python",
   "name": "python3"
  },
  "language_info": {
   "codemirror_mode": {
    "name": "ipython",
    "version": 3
   },
   "file_extension": ".py",
   "mimetype": "text/x-python",
   "name": "python",
   "nbconvert_exporter": "python",
   "pygments_lexer": "ipython3",
   "version": "3.8.10"
  },
  "vscode": {
   "interpreter": {
    "hash": "7918409a64d3d4275e0103fc4443d9be5863d1df136c02ed032407c7ae821339"
   }
  }
 },
 "nbformat": 4,
 "nbformat_minor": 2
}
